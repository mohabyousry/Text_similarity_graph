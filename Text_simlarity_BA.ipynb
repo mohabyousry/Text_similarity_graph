{
 "cells": [
  {
   "cell_type": "code",
   "execution_count": 2,
   "metadata": {},
   "outputs": [
    {
     "name": "stdout",
     "output_type": "stream",
     "text": [
      "Graph with 5 nodes and 1 edges\n"
     ]
    },
    {
     "data": {
      "image/png": "[encoded data removed]",
      "text/plain": [
       "<Figure size 640x480 with 1 Axes>"
      ]
     },
     "metadata": {},
     "output_type": "display_data"
    }
   ],
   "source": [
    "import networkx as nx\n",
    "import numpy as np\n",
    "import matplotlib.pyplot as plt\n",
    "# Calculates the similarity between two sentences\n",
    "def text_similarity(sentence1, sentence2):\n",
    "  list1 = sentence1.split()\n",
    "  list2 = sentence2.split()\n",
    "  intersection = len(set(list1) & set(list2))\n",
    "  union = len(set(list1) | set(list2))\n",
    "  similarity = intersection / union\n",
    "  return similarity\n",
    "\n",
    "# draws similarity graph between sentences in a text \n",
    "def draw_similarity_graph(text,threshold):\n",
    "  sentences = text.split(\".\")\n",
    "  graph = nx.Graph()\n",
    "  graph.add_nodes_from(range(len(sentences)))\n",
    "  for i in range(len(sentences)):\n",
    "    for j in range(i + 1, len(sentences)):\n",
    "      similarity = text_similarity(sentences[i], sentences[j])\n",
    "      if similarity > threshold:\n",
    "        graph.add_edge(i, j, weight=similarity)\n",
    "  return graph\n",
    "\n",
    "threshold = float(input('Enter threshold: '))\n",
    "text = \"This is a sentence. This is another sentence. These are two sentences. Here are the fourth one. this is the last\"\n",
    "graph = draw_similarity_graph(text,threshold)\n",
    "nx.draw(graph)\n",
    "print(graph)\n",
    "plt.show()"
   ]
  },
  {
   "cell_type": "code",
   "execution_count": null,
   "metadata": {},
   "outputs": [],
   "source": []
  }
 ],
 "metadata": {
  "kernelspec": {
   "display_name": "base",
   "language": "python",
   "name": "python3"
  },
  "language_info": {
   "codemirror_mode": {
    "name": "ipython",
    "version": 3
   },
   "file_extension": ".py",
   "mimetype": "text/x-python",
   "name": "python",
   "nbconvert_exporter": "python",
   "pygments_lexer": "ipython3",
   "version": "3.9.13"
  },
  "orig_nbformat": 4
 },
 "nbformat": 4,
 "nbformat_minor": 2
}
